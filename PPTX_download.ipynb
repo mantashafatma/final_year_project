{
 "cells": [
  {
   "cell_type": "code",
   "execution_count": 32,
   "id": "f47e7421",
   "metadata": {},
   "outputs": [],
   "source": [
    "from pptx import Presentation\n",
    "from pptx.util import Inches, Pt\n",
    "from pptx.dml.color import RGBColor\n",
    "from PIL import Image\n",
    "name_on_first_slide='Danish Azam'\n",
    "sel_con='China'\n",
    "continent='Africa'\n",
    "prs = Presentation('../covid-19 ppt.pptx')\n",
    "#Editting Name on First Slide\n",
    "prs.slides[0].shapes[-1].text='- '+name_on_first_slide.upper()\n",
    "prs.slides[0].shapes[-1].text_frame.paragraphs[0].font.size = Pt(22)\n",
    "prs.slides[0].shapes[-1].text_frame.paragraphs[0].font.name = 'Arial'\n",
    "prs.slides[0].shapes[-1].text_frame.paragraphs[0].font.color.rgb = RGBColor(255, 255, 255)\n",
    "\n",
    "#country name replacement\n",
    "# Specify the text to find and replace \n",
    "find_text = 'India' \n",
    "replace_text =sel_con\n",
    "\n",
    "def find_replace_text(presentation, find_text, replace_text): \n",
    "    for slide in presentation.slides: \n",
    "        for shape in slide.shapes: \n",
    "            if shape.has_text_frame: \n",
    "                for paragraph in shape.text_frame.paragraphs: \n",
    "                    for run in paragraph.runs: \n",
    "                        if find_text in run.text: \n",
    "                            run.text = run.text.replace(find_text, replace_text) \n",
    "                            \n",
    "                            \n",
    "# Call the function to find and replace the text \n",
    "find_replace_text(prs, find_text, replace_text) \n",
    "\n",
    "#continent name replacement\n",
    "# Specify the text to find and replace \n",
    "find_text_continent = 'Asia' \n",
    "replace_text_continent =continent\n",
    "\n",
    "                            \n",
    "                            \n",
    "# Call the function to find and replace the text \n",
    "find_replace_text(prs, find_text_continent, replace_text_continent) \n",
    "\n",
    "\n",
    "#Slide 12 Image creation\n",
    "def insert_pic(slideno,left,top,width,height,imgpath):\n",
    "    slide = prs.slides[slideno]\n",
    "    pic=slide.shapes.add_picture(imgpath, left, top,\n",
    "                                   width, height) \n",
    "def insert_text(slide_no,shape_no,newtext,fsize,fname):\n",
    "    prs.slides[slide_no].shapes[shape_no].text=newtext\n",
    "    prs.slides[slide_no].shapes[shape_no].text_frame.paragraphs[0].font.size = Pt(fsize)\n",
    "    prs.slides[slide_no].shapes[shape_no].text_frame.paragraphs[0].font.name = fname\n",
    "    prs.slides[slide_no].shapes[shape_no].text_frame.paragraphs[0].font.color.rgb = RGBColor(255, 255, 255)\n",
    "#update the heading\n",
    "# Slide 12\n",
    "# COVID-19 Cases Analysis in India: Total Cases vs. New Cases\n",
    "# for i,pl in enumerate(prs.slides[11].shapes):\n",
    "#     print(i,pl.text)\n",
    "# insert_text(11,2,'COVID-19 Cases Analysis in '+sel_con+': Total Cases vs. New Cases',28,'Modern Love (bold)')\n",
    "    \n",
    "\n",
    "# insert_text(11,4,'Engage in a detailed analysis of '+sel_con+' battle against COVID-19 with the illuminating Line Charts.'+\n",
    "# 'Uncover the trajectory of the pandemic within ' +sel_con+', showcased through two insightful line charts: \"Total Cases\" and New Cases.'+\n",
    "# 'The \"Total Cases\" chart presents '+sel_con+' overall case count, providing a panoramic view of the pandemic scale and progression within the nation.'+\n",
    "# 'Observe how the case count evolved over time, revealing critical milestones and challenges faced during the pandemic course.'+\n",
    "# 'Delve into the intricacies of the pandemic spread with the \"New Cases\" chart, depicting the daily or weekly influx of new infections.'+\n",
    "# 'Identify periods of surges, dips, or stability, providing valuable insights into the effectiveness of containment measures and vaccination campaigns.'+\n",
    "# 'Compare and contrast the trends between the two charts to uncover connections between the accumulation of cases and the fluctuations in new infections. ',16,'Arial')\n",
    "\n",
    "\n",
    "insert_pic(11,Inches(0),Inches(0),Inches(6.49),Inches(3.58),'../heart_analysis/static/country_line1.png')\n",
    "insert_pic(11,Inches(6.55),Inches(0),Inches(6.70),Inches(3.58),'../heart_analysis/static/country_line2.png')\n",
    "\n",
    "# #update the heading\n",
    "# # Slide 13\n",
    "# # COVID-19 Impact: Vaccination and Total Deaths in India\n",
    "# insert_text(12,2,'COVID-19 Impact: Vaccination and Total Deaths in '+sel_con,28,'Modern Love (bold)')\n",
    "\n",
    "# insert_text(12,4,'Unveil the pivotal aspects of  ' +sel_con+' COVID-19 journey with two crucial line charts: \"Vaccination\" and \"Total Deaths.\"'+\n",
    "# 'Gain profound insights into ' +sel_con+' vaccination progress and its impact on the nation resilience in the face of the pandemic.'+\n",
    "# 'The \"Vaccination\" chart showcases the cumulative doses administered, reflecting ' +sel_con+' strides towards herd immunity and protection.'+\n",
    "# 'Observe the acceleration in vaccinations, indicating a concerted effort in safeguarding the population.'+\n",
    "# 'Delve into the effectiveness of vaccination campaigns, potentially curbing infection rates and reducing severe outcomes.'+\n",
    "# 'The \"Total Deaths\" chart portrays the solemn toll of the pandemic on ' +sel_con+', capturing the lives lost to COVID-19.'+\n",
    "# 'Pay tribute to those who lost their lives, understanding the human cost of the pandemic impact.'+\n",
    "# 'Analyze the intersection of vaccination efforts and the impact on reducing fatalities.'\n",
    "#  ,14,'Arial')\n",
    "\n",
    "\n",
    "insert_pic(12,Inches(0),Inches(0),Inches(6.49),Inches(3.58),'../heart_analysis/static/country_line3.png')\n",
    "insert_pic(12,Inches(6.55),Inches(0),Inches(6.70),Inches(3.58),'../heart_analysis/static/country_line4.png')\n",
    "\n",
    "\n",
    "# # Slide 14\n",
    "# # Pandemic Perspectives: Top 5 Countries vs. India\n",
    "# # left 5.85\n",
    "# # width 7.36\n",
    "# # height 5.86\n",
    "# # top 0.85\n",
    "# for i,pl in enumerate(prs.slides[13].shapes):\n",
    "#     print(i,pl.text)\n",
    "\n",
    "# insert_text(12,2,'COVID-19 Impact: Vaccination and Total Deaths in '+sel_con,28,'Modern Love (bold)')\n",
    "\n",
    "\n",
    "insert_pic(13,Inches(5.85),Inches(0.85),Inches(7.36),Inches(5.86),'../heart_analysis/static/country_barline.png')\n",
    "\n",
    "\n",
    "\n",
    "# # Slide 15\n",
    "# #  Continental Insights: Sunburst Chart of Population in Asia​\n",
    "\n",
    "# # Embark on an enlightening journey into the heart of Asia with the mesmerizing \"Sunburst Chart.\"​\n",
    "\n",
    "# # Unveil the total population of Asia, the continent to which India belongs, offering a holistic understanding of the region's significance in the global fight against COVID-19.​\n",
    "\n",
    "# # The \"Sunburst Chart\" artfully visualizes the population distribution across different tiers, providing a comprehensive view of the continent's demographics.​\n",
    "\n",
    "# # Explore the hierarchy of population segments, from countries to regions, cities, and beyond, to comprehend Asia's immense diversity.​\n",
    "\n",
    "# # Understand how India, as a prominent country within Asia, fits into this broader tapestry, recognizing its role within the continental context.​\n",
    "\n",
    "# # Gain valuable insights into Asia's capacity to mobilize resources, expertise, and collective responses in combatting the pandemic.​\n",
    "\n",
    "# # Empower policymakers and the audience with nuanced knowledge, guiding informed strategies for regional cooperation and support.​\n",
    "\n",
    "# # ​left 5.85\n",
    "# # width 7.36\n",
    "# # height 5.86\n",
    "# # top 0.85\n",
    "#insert_text(14,6,' Continental Insights: Sunburst Chart of Population in '+continent,28,'Modern Love (bold)')\n",
    "\n",
    "\n",
    "insert_pic(14,Inches(5.85),Inches(0.85),Inches(7.45),Inches(5.75),'../heart_analysis/static/country_sunburst1.png')\n",
    "\n",
    "prs.save('../covid-19-editied.pptx')"
   ]
  },
  {
   "cell_type": "code",
   "execution_count": 6,
   "id": "883e1061",
   "metadata": {},
   "outputs": [
    {
     "name": "stdout",
     "output_type": "stream",
     "text": [
      "Embark on a riveting journey of pandemic perspectives with the captivating \"Comparison Chart,\" where data reveals the intertwined stories of China and the top 5 countries with the highest total COVID-19 cases.\n",
      "The chart comes alive as the bars elegantly display the annual total cases for each of the leading nations, bringing to light the diverse and ever-evolving nature of their pandemic experiences.\n",
      "China's unique trajectory is thoughtfully represented by the distinguished line, providing a personalized lens into the nation's ongoing response.\n",
      "Witness how China's battle against the pandemic aligns or diverges from the top performers, unearthing critical learnings and potential strategies.\n",
      "Explore pivotal turning points that shaped each country's course, identifying correlations between actions and outcomes, and uncovering the factors influencing their pandemic narratives.\n",
      "Gain deeper insights into China's journey as the line chart weaves through triumphs and challenges, unveiling the nation's resilience in the face of adversity.\n",
      "\n"
     ]
    }
   ],
   "source": [
    "# for i,pl in enumerate(prs.slides[13].shapes):\n",
    "#     print(i,pl.text)\n",
    "sel_con='China'\n",
    "print(prs.slides[1].shapes[3].text.replace('India',sel_con))"
   ]
  },
  {
   "cell_type": "code",
   "execution_count": 10,
   "id": "a2d83481",
   "metadata": {},
   "outputs": [
    {
     "name": "stdout",
     "output_type": "stream",
     "text": [
      "12 4 Unveil the pivotal aspects of China's COVID-19 journey with two crucial line charts: \"Vaccination\" and \"Total Deaths.\"\n",
      "Gain profound insights into China's vaccination progress and its impact on the nation's resilience in the face of the pandemic.\n",
      "The \"Vaccination\" chart showcases the cumulative doses administered, reflecting China's strides towards herd immunity and protection.\n",
      "Observe the acceleration in vaccinations, indicating a concerted effort in safeguarding the population.\n",
      "Delve into the effectiveness of vaccination campaigns, potentially curbing infection rates and reducing severe outcomes.\n",
      "The \"Total Deaths\" chart portrays the solemn toll of the pandemic on China, capturing the lives lost to COVID-19.\n",
      "Pay tribute to those who lost their lives, understanding the human cost of the pandemic's impact.\n",
      "Analyze the intersection of vaccination efforts and the impact on reducing fatalities.\n",
      " 14 Arial\n"
     ]
    }
   ],
   "source": [
    "print(12,4,prs.slides[12].shapes[4].text.replace('India',sel_con),14,'Arial')\n"
   ]
  },
  {
   "cell_type": "code",
   "execution_count": 25,
   "id": "ebaa6466",
   "metadata": {},
   "outputs": [
    {
     "name": "stdout",
     "output_type": "stream",
     "text": [
      "0 \n",
      "1 \n",
      "2 \n",
      "3 Embark on an enlightening journey into the heart of Asia with the mesmerizing \"Sunburst Chart.\"\n",
      "Unveil the total population of Asia, the continent to which China belongs, offering a holistic understanding of the region's significance in the global fight against COVID-19.\n",
      "The \"Sunburst Chart\" artfully visualizes the population distribution across different tiers, providing a comprehensive view of the continent's demographics.\n",
      "Explore the hierarchy of population segments, from countries to regions, cities, and beyond, to comprehend Asia's immense diversity.\n",
      "Understand how China, as a prominent country within Asia, fits into this broader tapestry, recognizing its role within the continental context.\n",
      "Gain valuable insights into Asia's capacity to mobilize resources, expertise, and collective responses in combatting the pandemic.\n",
      "Empower policymakers and the audience with nuanced knowledge, guiding informed strategies for regional cooperation and support.\n",
      "\n",
      "4 \n",
      "5 \n",
      "6 Continental Insights: Sunburst Chart of Population in Asia\n",
      "7 \n",
      "8 \n"
     ]
    },
    {
     "ename": "AttributeError",
     "evalue": "'Picture' object has no attribute 'text'",
     "output_type": "error",
     "traceback": [
      "\u001b[1;31m---------------------------------------------------------------------------\u001b[0m",
      "\u001b[1;31mAttributeError\u001b[0m                            Traceback (most recent call last)",
      "Cell \u001b[1;32mIn [25], line 2\u001b[0m\n\u001b[0;32m      1\u001b[0m \u001b[38;5;28;01mfor\u001b[39;00m i,pl \u001b[38;5;129;01min\u001b[39;00m \u001b[38;5;28menumerate\u001b[39m(prs\u001b[38;5;241m.\u001b[39mslides[\u001b[38;5;241m14\u001b[39m]\u001b[38;5;241m.\u001b[39mshapes):\n\u001b[1;32m----> 2\u001b[0m     \u001b[38;5;28mprint\u001b[39m(i,\u001b[43mpl\u001b[49m\u001b[38;5;241;43m.\u001b[39;49m\u001b[43mtext\u001b[49m)\n",
      "\u001b[1;31mAttributeError\u001b[0m: 'Picture' object has no attribute 'text'"
     ]
    }
   ],
   "source": [
    "for i,pl in enumerate(prs.slides[14].shapes):\n",
    "    print(i,pl.text)"
   ]
  },
  {
   "cell_type": "code",
   "execution_count": 1,
   "id": "b4331311",
   "metadata": {},
   "outputs": [
    {
     "ename": "NameError",
     "evalue": "name 'df' is not defined",
     "output_type": "error",
     "traceback": [
      "\u001b[1;31m---------------------------------------------------------------------------\u001b[0m",
      "\u001b[1;31mNameError\u001b[0m                                 Traceback (most recent call last)",
      "Cell \u001b[1;32mIn [1], line 1\u001b[0m\n\u001b[1;32m----> 1\u001b[0m \u001b[43mdf\u001b[49m\n",
      "\u001b[1;31mNameError\u001b[0m: name 'df' is not defined"
     ]
    }
   ],
   "source": [
    "df"
   ]
  },
  {
   "cell_type": "code",
   "execution_count": null,
   "id": "ead4ca04",
   "metadata": {},
   "outputs": [],
   "source": []
  }
 ],
 "metadata": {
  "kernelspec": {
   "display_name": "Python 3 (ipykernel)",
   "language": "python",
   "name": "python3"
  },
  "language_info": {
   "codemirror_mode": {
    "name": "ipython",
    "version": 3
   },
   "file_extension": ".py",
   "mimetype": "text/x-python",
   "name": "python",
   "nbconvert_exporter": "python",
   "pygments_lexer": "ipython3",
   "version": "3.10.6"
  }
 },
 "nbformat": 4,
 "nbformat_minor": 5
}
